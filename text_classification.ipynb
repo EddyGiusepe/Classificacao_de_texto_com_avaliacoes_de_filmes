{
  "nbformat": 4,
  "nbformat_minor": 0,
  "metadata": {
    "colab": {
      "name": "text_classification.ipynb",
      "provenance": [],
      "collapsed_sections": [],
      "include_colab_link": true
    },
    "kernelspec": {
      "display_name": "Python 3",
      "name": "python3"
    },
    "language_info": {
      "codemirror_mode": {
        "name": "ipython",
        "version": 3
      },
      "file_extension": ".py",
      "mimetype": "text/x-python",
      "name": "python",
      "nbconvert_exporter": "python",
      "pygments_lexer": "ipython3",
      "version": "3.6.9"
    }
  },
  "cells": [
    {
      "cell_type": "markdown",
      "metadata": {
        "id": "view-in-github",
        "colab_type": "text"
      },
      "source": [
        "<a href=\"https://colab.research.google.com/github/EddyGiusepe/Classificacao_de_texto_com_avaliacoes_de_filmes/blob/main/text_classification.ipynb\" target=\"_parent\"><img src=\"https://colab.research.google.com/assets/colab-badge.svg\" alt=\"Open In Colab\"/></a>"
      ]
    },
    {
      "cell_type": "markdown",
      "metadata": {
        "id": "ItXfxkxvosLH"
      },
      "source": [
        "# <font color='red'>Classificação de texto com avaliações de filmes</font>\r\n",
        "\r\n",
        "Esta fonte de informação pode ser encontrada [aqui](https://www.tensorflow.org/tutorials/keras/text_classification#hidden_units). Utilizamos este site para poder aprender e ir treinando nossos conhecimentos com **TensorFlow**, **keras**, etc. Tratarei de ser um pouco mais explícito em cada passo do código.\r\n",
        "\r\n",
        "**Índice:**\r\n",
        "\r\n",
        "* Baixe a base de Dados **IMDB**\r\n",
        "\r\n",
        "* Explore os Dados\r\n",
        "  * Converta os inteiros de volta a palavras\r\n",
        "\r\n",
        "* Prepare os Dados\r\n",
        "\r\n",
        "* Construindo o modelo\r\n",
        "  * Hidden units (unidades ocultas)\r\n",
        "  * Função Loss e otimizadores (optimizer)\r\n",
        "\r\n",
        "* Crie um conjunto de validação\r\n",
        "\r\n",
        "* Treine o modelo\r\n",
        "\r\n",
        "* Avalie o modelo\r\n",
        "\r\n",
        "* Crie um gráfico de Acurácia e Loss por tempo\r\n"
      ]
    },
    {
      "cell_type": "markdown",
      "metadata": {
        "id": "Eg62Pmz3o83v"
      },
      "source": [
        "Este *notebook* classifica avaliações de filmes como **positiva** ou **negativa** usando o texto da avaliação. Isto é um exemplo de classificação *binária* —ou duas-classes—, um importante e bastante aplicado tipo de problema de aprendizado de máquina.\n",
        "\n",
        "Usaremos a base de dados [IMDB](https://www.tensorflow.org/api_docs/python/tf/keras/datasets/imdb) que contém avaliaçòes de mais de $50\\,000$ filmes do banco de dados [Internet Movie Database](https://www.imdb.com/). A base é dividida em $25\\,000$ avaliações para **treinamento** e $25\\,000$ para **teste**. Os conjuntos de treinamentos e testes são *balanceados*, ou seja, eles possuem a mesma quantidade de avaliações positivas e negativas.\n",
        "\n",
        "O notebook utiliza [tf.keras](https://www.tensorflow.org/guide/keras), uma API alto-nível para construir e treinar modelos com **TensorFlow**. Para mais tutoriais avançados de classificação de textos usando `tf.keras`, veja em [MLCC Text Classification Guide](https://developers.google.com/machine-learning/guides/text-classification/)."
      ]
    },
    {
      "cell_type": "markdown",
      "metadata": {
        "id": "lNusHxvFuWpi"
      },
      "source": [
        "## <font color='blue'>Importamos as nossas livrarias</font>"
      ]
    },
    {
      "cell_type": "code",
      "metadata": {
        "execution": {
          "iopub.execute_input": "2020-09-22T18:01:04.689011Z",
          "iopub.status.busy": "2020-09-22T18:01:04.688473Z",
          "iopub.status.idle": "2020-09-22T18:01:10.344357Z",
          "shell.execute_reply": "2020-09-22T18:01:10.344853Z"
        },
        "id": "2ew7HTbPpCJH",
        "colab": {
          "base_uri": "https://localhost:8080/"
        },
        "outputId": "90e4efbd-ac66-4b1a-a655-01644f36719f"
      },
      "source": [
        "import tensorflow as tf\n",
        "from tensorflow import keras\n",
        "\n",
        "import numpy as np\n",
        "\n",
        "print(tf.__version__)"
      ],
      "execution_count": null,
      "outputs": [
        {
          "output_type": "stream",
          "text": [
            "2.4.1\n"
          ],
          "name": "stdout"
        }
      ]
    },
    {
      "cell_type": "markdown",
      "metadata": {
        "id": "iAsKG535pHep"
      },
      "source": [
        "## <font color='blue'>Baixe a base de dados IMDB</font>\n",
        "\n",
        "A base de dados vem empacotada com TensorFlow. Ela já vem pré-processada de forma que as avaliações (sequências de palavras) foram convertidas em sequências de inteiros, onde cada inteiro representa uma palavra específica no dicionário.\n",
        "\n",
        "O código a seguir (abaixo) baixa a base de dados IMDB para a sua máquina (ou usa a cópia em *cache*, caso já tenha baixado):\""
      ]
    },
    {
      "cell_type": "code",
      "metadata": {
        "execution": {
          "iopub.execute_input": "2020-09-22T18:01:10.350694Z",
          "iopub.status.busy": "2020-09-22T18:01:10.350112Z",
          "iopub.status.idle": "2020-09-22T18:01:15.287256Z",
          "shell.execute_reply": "2020-09-22T18:01:15.286653Z"
        },
        "id": "zXXx5Oc3pOmN",
        "colab": {
          "base_uri": "https://localhost:8080/"
        },
        "outputId": "695122f7-c2fb-4fec-c2fd-ed6583226492"
      },
      "source": [
        "imdb = keras.datasets.imdb\n",
        "\n",
        "(train_data, train_labels), (test_data, test_labels) = imdb.load_data(num_words=10000)"
      ],
      "execution_count": null,
      "outputs": [
        {
          "output_type": "stream",
          "text": [
            "<string>:6: VisibleDeprecationWarning: Creating an ndarray from ragged nested sequences (which is a list-or-tuple of lists-or-tuples-or ndarrays with different lengths or shapes) is deprecated. If you meant to do this, you must specify 'dtype=object' when creating the ndarray\n",
            "/usr/local/lib/python3.6/dist-packages/tensorflow/python/keras/datasets/imdb.py:159: VisibleDeprecationWarning: Creating an ndarray from ragged nested sequences (which is a list-or-tuple of lists-or-tuples-or ndarrays with different lengths or shapes) is deprecated. If you meant to do this, you must specify 'dtype=object' when creating the ndarray\n",
            "  x_train, y_train = np.array(xs[:idx]), np.array(labels[:idx])\n",
            "/usr/local/lib/python3.6/dist-packages/tensorflow/python/keras/datasets/imdb.py:160: VisibleDeprecationWarning: Creating an ndarray from ragged nested sequences (which is a list-or-tuple of lists-or-tuples-or ndarrays with different lengths or shapes) is deprecated. If you meant to do this, you must specify 'dtype=object' when creating the ndarray\n",
            "  x_test, y_test = np.array(xs[idx:]), np.array(labels[idx:])\n"
          ],
          "name": "stderr"
        }
      ]
    },
    {
      "cell_type": "markdown",
      "metadata": {
        "id": "odr-KlzO-lkL"
      },
      "source": [
        "O argumento ``num_words=10000`` mantém as $10\\,000$ palavras mais frequentes no conjunto de treinamento. As palavras mais raras são descartadas para preservar o tamanho dos dados de forma maleável."
      ]
    },
    {
      "cell_type": "markdown",
      "metadata": {
        "id": "l50X3GfjpU4r"
      },
      "source": [
        "##  <font color='blue'>Explore os dados</font>\n",
        "\n",
        "Vamos parar um momento para entender o formato dos Dados. O conjunto de dados vem pré-processado: cada exemplo é um ``array`` de inteiros representando as palavras da avaliação do filme. Cada ``label`` é um inteiro com valor ou de $0$ ou $1$, onde $0$ é uma **avaliação negativa** e $1$ é uma **avaliação positiva**."
      ]
    },
    {
      "cell_type": "code",
      "metadata": {
        "execution": {
          "iopub.execute_input": "2020-09-22T18:01:15.292155Z",
          "iopub.status.busy": "2020-09-22T18:01:15.291542Z",
          "iopub.status.idle": "2020-09-22T18:01:15.294220Z",
          "shell.execute_reply": "2020-09-22T18:01:15.293714Z"
        },
        "id": "y8qCnve_-lkO",
        "colab": {
          "base_uri": "https://localhost:8080/"
        },
        "outputId": "f45373f1-fb9b-4e68-d587-4bc332d5277f"
      },
      "source": [
        "print(\"Entradas de treinamento: {}, Rótulos (labels): {}\".format(len(train_data), len(train_labels)))"
      ],
      "execution_count": null,
      "outputs": [
        {
          "output_type": "stream",
          "text": [
            "Entradas de treinamento: 25000, Rótulos (labels): 25000\n"
          ],
          "name": "stdout"
        }
      ]
    },
    {
      "cell_type": "markdown",
      "metadata": {
        "id": "RnKvHWW4-lkW"
      },
      "source": [
        "O texto das avaliações foi convertido para inteiros, onde cada inteiro representa uma palavra específica no dicionário. Isso é como se parece a primeira revisão:"
      ]
    },
    {
      "cell_type": "code",
      "metadata": {
        "execution": {
          "iopub.execute_input": "2020-09-22T18:01:15.298282Z",
          "iopub.status.busy": "2020-09-22T18:01:15.297664Z",
          "iopub.status.idle": "2020-09-22T18:01:15.300482Z",
          "shell.execute_reply": "2020-09-22T18:01:15.300025Z"
        },
        "id": "QtTS4kpEpjbi",
        "colab": {
          "base_uri": "https://localhost:8080/"
        },
        "outputId": "3ab6fdc2-fbaa-4aae-921f-abb62da10766"
      },
      "source": [
        "# Primeira avaliação\r\n",
        "print(train_data[0])"
      ],
      "execution_count": null,
      "outputs": [
        {
          "output_type": "stream",
          "text": [
            "[1, 14, 22, 16, 43, 530, 973, 1622, 1385, 65, 458, 4468, 66, 3941, 4, 173, 36, 256, 5, 25, 100, 43, 838, 112, 50, 670, 2, 9, 35, 480, 284, 5, 150, 4, 172, 112, 167, 2, 336, 385, 39, 4, 172, 4536, 1111, 17, 546, 38, 13, 447, 4, 192, 50, 16, 6, 147, 2025, 19, 14, 22, 4, 1920, 4613, 469, 4, 22, 71, 87, 12, 16, 43, 530, 38, 76, 15, 13, 1247, 4, 22, 17, 515, 17, 12, 16, 626, 18, 2, 5, 62, 386, 12, 8, 316, 8, 106, 5, 4, 2223, 5244, 16, 480, 66, 3785, 33, 4, 130, 12, 16, 38, 619, 5, 25, 124, 51, 36, 135, 48, 25, 1415, 33, 6, 22, 12, 215, 28, 77, 52, 5, 14, 407, 16, 82, 2, 8, 4, 107, 117, 5952, 15, 256, 4, 2, 7, 3766, 5, 723, 36, 71, 43, 530, 476, 26, 400, 317, 46, 7, 4, 2, 1029, 13, 104, 88, 4, 381, 15, 297, 98, 32, 2071, 56, 26, 141, 6, 194, 7486, 18, 4, 226, 22, 21, 134, 476, 26, 480, 5, 144, 30, 5535, 18, 51, 36, 28, 224, 92, 25, 104, 4, 226, 65, 16, 38, 1334, 88, 12, 16, 283, 5, 16, 4472, 113, 103, 32, 15, 16, 5345, 19, 178, 32]\n"
          ],
          "name": "stdout"
        }
      ]
    },
    {
      "cell_type": "code",
      "metadata": {
        "colab": {
          "base_uri": "https://localhost:8080/"
        },
        "id": "RHHTGPgH4RXZ",
        "outputId": "bb64e2ce-7436-4ad7-c85f-c564714314b7"
      },
      "source": [
        "# Segunda avaliação\r\n",
        "print(train_data[1])"
      ],
      "execution_count": null,
      "outputs": [
        {
          "output_type": "stream",
          "text": [
            "[1, 194, 1153, 194, 8255, 78, 228, 5, 6, 1463, 4369, 5012, 134, 26, 4, 715, 8, 118, 1634, 14, 394, 20, 13, 119, 954, 189, 102, 5, 207, 110, 3103, 21, 14, 69, 188, 8, 30, 23, 7, 4, 249, 126, 93, 4, 114, 9, 2300, 1523, 5, 647, 4, 116, 9, 35, 8163, 4, 229, 9, 340, 1322, 4, 118, 9, 4, 130, 4901, 19, 4, 1002, 5, 89, 29, 952, 46, 37, 4, 455, 9, 45, 43, 38, 1543, 1905, 398, 4, 1649, 26, 6853, 5, 163, 11, 3215, 2, 4, 1153, 9, 194, 775, 7, 8255, 2, 349, 2637, 148, 605, 2, 8003, 15, 123, 125, 68, 2, 6853, 15, 349, 165, 4362, 98, 5, 4, 228, 9, 43, 2, 1157, 15, 299, 120, 5, 120, 174, 11, 220, 175, 136, 50, 9, 4373, 228, 8255, 5, 2, 656, 245, 2350, 5, 4, 9837, 131, 152, 491, 18, 2, 32, 7464, 1212, 14, 9, 6, 371, 78, 22, 625, 64, 1382, 9, 8, 168, 145, 23, 4, 1690, 15, 16, 4, 1355, 5, 28, 6, 52, 154, 462, 33, 89, 78, 285, 16, 145, 95]\n"
          ],
          "name": "stdout"
        }
      ]
    },
    {
      "cell_type": "markdown",
      "metadata": {
        "id": "hIE4l_72x7DP"
      },
      "source": [
        "**As avaliações dos filmes têm diferentes tamanhos**. O código abaixo mostra o número de palavras da primeira e segunda avaliação. Sabendo que o número de entradas na rede neural tem que ser do mesmo também, <font color='orange'>temos que resolver isto mais tarde</font>."
      ]
    },
    {
      "cell_type": "code",
      "metadata": {
        "execution": {
          "iopub.execute_input": "2020-09-22T18:01:15.309278Z",
          "iopub.status.busy": "2020-09-22T18:01:15.308539Z",
          "iopub.status.idle": "2020-09-22T18:01:15.311847Z",
          "shell.execute_reply": "2020-09-22T18:01:15.312341Z"
        },
        "id": "X-6Ii9Pfx6Nr",
        "colab": {
          "base_uri": "https://localhost:8080/"
        },
        "outputId": "8e6984b4-9b07-4993-cb0b-bf36436c4d9b"
      },
      "source": [
        "# Tamanho das avaliações \r\n",
        "len(train_data[0]), len(train_data[1])"
      ],
      "execution_count": null,
      "outputs": [
        {
          "output_type": "execute_result",
          "data": {
            "text/plain": [
              "(218, 189)"
            ]
          },
          "metadata": {
            "tags": []
          },
          "execution_count": 6
        }
      ]
    },
    {
      "cell_type": "markdown",
      "metadata": {
        "id": "4wJg2FiYpuoX"
      },
      "source": [
        "### <font color='orange'>Converta os inteiros de volta a palavras</font>\n",
        "\n",
        "É util saber como converter inteiros de volta a texto. Aqui, criaremos uma função de ajuda para consultar um objeto ``dictionary`` que contenha inteiros mapeados em **strings**:"
      ]
    },
    {
      "cell_type": "code",
      "metadata": {
        "execution": {
          "iopub.execute_input": "2020-09-22T18:01:15.318748Z",
          "iopub.status.busy": "2020-09-22T18:01:15.318141Z",
          "iopub.status.idle": "2020-09-22T18:01:16.162981Z",
          "shell.execute_reply": "2020-09-22T18:01:16.163496Z"
        },
        "id": "tr5s_1alpzop"
      },
      "source": [
        "# Um dicionário mapeando palavras em índices inteiros\n",
        "word_index = imdb.get_word_index()\n",
        "\n",
        "# Os primeiros índices são reservados\n",
        "word_index = {k:(v+3) for k,v in word_index.items()}\n",
        "word_index[\"<PAD>\"] = 0\n",
        "word_index[\"<START>\"] = 1\n",
        "word_index[\"<UNK>\"] = 2  # unknown\n",
        "word_index[\"<UNUSED>\"] = 3\n",
        "\n",
        "reverse_word_index = dict([(value, key) for (key, value) in word_index.items()])\n",
        "\n",
        "def decode_review(text):\n",
        "    return ' '.join([reverse_word_index.get(i, '?') for i in text])"
      ],
      "execution_count": null,
      "outputs": []
    },
    {
      "cell_type": "markdown",
      "metadata": {
        "id": "U3CNRvEZVppl"
      },
      "source": [
        "Agora, podemos usar a função `decode_review` para mostrar o texto da primeira avaliação:"
      ]
    },
    {
      "cell_type": "code",
      "metadata": {
        "execution": {
          "iopub.execute_input": "2020-09-22T18:01:16.168457Z",
          "iopub.status.busy": "2020-09-22T18:01:16.167813Z",
          "iopub.status.idle": "2020-09-22T18:01:16.170804Z",
          "shell.execute_reply": "2020-09-22T18:01:16.170337Z"
        },
        "id": "s_OqxmH6-lkn",
        "colab": {
          "base_uri": "https://localhost:8080/",
          "height": 107
        },
        "outputId": "e92abf1a-5299-4eed-deef-0aed1f9a74ea"
      },
      "source": [
        "decode_review(train_data[0])"
      ],
      "execution_count": null,
      "outputs": [
        {
          "output_type": "execute_result",
          "data": {
            "application/vnd.google.colaboratory.intrinsic+json": {
              "type": "string"
            },
            "text/plain": [
              "\"<START> this film was just brilliant casting location scenery story direction everyone's really suited the part they played and you could just imagine being there robert <UNK> is an amazing actor and now the same being director <UNK> father came from the same scottish island as myself so i loved the fact there was a real connection with this film the witty remarks throughout the film were great it was just brilliant so much that i bought the film as soon as it was released for <UNK> and would recommend it to everyone to watch and the fly fishing was amazing really cried at the end it was so sad and you know what they say if you cry at a film it must have been good and this definitely was also <UNK> to the two little boy's that played the <UNK> of norman and paul they were just brilliant children are often left out of the <UNK> list i think because the stars that play them all grown up are such a big profile for the whole film but these children are amazing and should be praised for what they have done don't you think the whole story was so lovely because it was true and was someone's life after all that was shared with us all\""
            ]
          },
          "metadata": {
            "tags": []
          },
          "execution_count": 8
        }
      ]
    },
    {
      "cell_type": "code",
      "metadata": {
        "colab": {
          "base_uri": "https://localhost:8080/",
          "height": 107
        },
        "id": "gYZ-AJg5_GsU",
        "outputId": "c1e32967-5025-4c89-dc01-9e0c6c873e18"
      },
      "source": [
        "decode_review(train_data[1])"
      ],
      "execution_count": null,
      "outputs": [
        {
          "output_type": "execute_result",
          "data": {
            "application/vnd.google.colaboratory.intrinsic+json": {
              "type": "string"
            },
            "text/plain": [
              "\"<START> big hair big boobs bad music and a giant safety pin these are the words to best describe this terrible movie i love cheesy horror movies and i've seen hundreds but this had got to be on of the worst ever made the plot is paper thin and ridiculous the acting is an abomination the script is completely laughable the best is the end showdown with the cop and how he worked out who the killer is it's just so damn terribly written the clothes are sickening and funny in equal <UNK> the hair is big lots of boobs <UNK> men wear those cut <UNK> shirts that show off their <UNK> sickening that men actually wore them and the music is just <UNK> trash that plays over and over again in almost every scene there is trashy music boobs and <UNK> taking away bodies and the gym still doesn't close for <UNK> all joking aside this is a truly bad film whose only charm is to look back on the disaster that was the 80's and have a good old laugh at how bad everything was back then\""
            ]
          },
          "metadata": {
            "tags": []
          },
          "execution_count": 9
        }
      ]
    },
    {
      "cell_type": "markdown",
      "metadata": {
        "id": "lFP_XKVRp4_S"
      },
      "source": [
        "## <font color='blue'>Prepare os dados</font>\n",
        "\n",
        "As avaliações —os ``arrays`` de inteiros— devem ser convertidas em tensores (**tensors**) antes de alimentar a **rede neural**. Essa conversão pode ser feita de duas formas:\n",
        "\n",
        "* Converter os arrays em vetores de $0$s e $1$s indicando a ocorrência da palavra, similar com one-hot encoding. Por exemplo, a sequência [3, 5] se tornaria um vetor de $10\\,000$ dimensões, onde todos seriam $0$s, tirando $3$ e $5$, que são $1$s. Depois, faça disso a **primeira camada** da nossa rede neural — a **Dense layer** — que pode trabalhar com dados em ponto flutuante. Essa abordagem é intensa em relação a memória, logo requer uma matriz de tamanho ``num_words * num_reviews``.\n",
        "\n",
        "* Alternativamente, podemos preencher o array para que todos tenham o mesmo comprimento, e depois criar um tensor inteiro de formato ``max_length * num_reviews``. Podemos usar uma camada **embedding** capaz de lidar com o formato como a primeira camada da nossa rede.\n",
        "\n",
        "Nesse tutorial, usaremos a segunda abordagem.\n",
        "\n",
        "Já que as avaliações dos filmes devem ter o mesmo tamanho, usaremos a função [pad_sequences](https://www.tensorflow.org/api_docs/python/tf/keras/preprocessing/sequence/pad_sequences) para padronizar os tamanhos:"
      ]
    },
    {
      "cell_type": "code",
      "metadata": {
        "execution": {
          "iopub.execute_input": "2020-09-22T18:01:16.178905Z",
          "iopub.status.busy": "2020-09-22T18:01:16.178339Z",
          "iopub.status.idle": "2020-09-22T18:01:17.063973Z",
          "shell.execute_reply": "2020-09-22T18:01:17.064389Z"
        },
        "id": "2jQv-omsHurp"
      },
      "source": [
        "train_data = keras.preprocessing.sequence.pad_sequences(train_data,\n",
        "                                                        value=word_index[\"<PAD>\"],\n",
        "                                                        padding='post',\n",
        "                                                        maxlen=256)\n",
        "\n",
        "test_data = keras.preprocessing.sequence.pad_sequences(test_data,\n",
        "                                                       value=word_index[\"<PAD>\"],\n",
        "                                                       padding='post',\n",
        "                                                       maxlen=256)"
      ],
      "execution_count": null,
      "outputs": []
    },
    {
      "cell_type": "markdown",
      "metadata": {
        "id": "VO5MBpyQdipD"
      },
      "source": [
        "Agora, vamos olhar o tamanho dos exemplos:"
      ]
    },
    {
      "cell_type": "code",
      "metadata": {
        "execution": {
          "iopub.execute_input": "2020-09-22T18:01:17.069133Z",
          "iopub.status.busy": "2020-09-22T18:01:17.068529Z",
          "iopub.status.idle": "2020-09-22T18:01:17.070755Z",
          "shell.execute_reply": "2020-09-22T18:01:17.071151Z"
        },
        "id": "USSSBnkE-lky",
        "colab": {
          "base_uri": "https://localhost:8080/"
        },
        "outputId": "bb304c65-ac3a-499a-d8f3-f9e12a2325d3"
      },
      "source": [
        "# O tamanho agora são iguais\r\n",
        "len(train_data[0]), len(train_data[1])"
      ],
      "execution_count": null,
      "outputs": [
        {
          "output_type": "execute_result",
          "data": {
            "text/plain": [
              "(256, 256)"
            ]
          },
          "metadata": {
            "tags": []
          },
          "execution_count": 11
        }
      ]
    },
    {
      "cell_type": "markdown",
      "metadata": {
        "id": "QJoxZGyfjT5V"
      },
      "source": [
        "E inspecionar as primeiras avaliações (agora preenchidos):"
      ]
    },
    {
      "cell_type": "code",
      "metadata": {
        "execution": {
          "iopub.execute_input": "2020-09-22T18:01:17.075077Z",
          "iopub.status.busy": "2020-09-22T18:01:17.074561Z",
          "iopub.status.idle": "2020-09-22T18:01:17.076594Z",
          "shell.execute_reply": "2020-09-22T18:01:17.076975Z"
        },
        "id": "TG8X9cqi-lk9",
        "colab": {
          "base_uri": "https://localhost:8080/"
        },
        "outputId": "6067508f-9f4e-4d3c-ad83-975285cabc5e"
      },
      "source": [
        "# train_data[0]\r\n",
        "# ou\r\n",
        "\r\n",
        "print(train_data[0])"
      ],
      "execution_count": null,
      "outputs": [
        {
          "output_type": "stream",
          "text": [
            "[   1   14   22   16   43  530  973 1622 1385   65  458 4468   66 3941\n",
            "    4  173   36  256    5   25  100   43  838  112   50  670    2    9\n",
            "   35  480  284    5  150    4  172  112  167    2  336  385   39    4\n",
            "  172 4536 1111   17  546   38   13  447    4  192   50   16    6  147\n",
            " 2025   19   14   22    4 1920 4613  469    4   22   71   87   12   16\n",
            "   43  530   38   76   15   13 1247    4   22   17  515   17   12   16\n",
            "  626   18    2    5   62  386   12    8  316    8  106    5    4 2223\n",
            " 5244   16  480   66 3785   33    4  130   12   16   38  619    5   25\n",
            "  124   51   36  135   48   25 1415   33    6   22   12  215   28   77\n",
            "   52    5   14  407   16   82    2    8    4  107  117 5952   15  256\n",
            "    4    2    7 3766    5  723   36   71   43  530  476   26  400  317\n",
            "   46    7    4    2 1029   13  104   88    4  381   15  297   98   32\n",
            " 2071   56   26  141    6  194 7486   18    4  226   22   21  134  476\n",
            "   26  480    5  144   30 5535   18   51   36   28  224   92   25  104\n",
            "    4  226   65   16   38 1334   88   12   16  283    5   16 4472  113\n",
            "  103   32   15   16 5345   19  178   32    0    0    0    0    0    0\n",
            "    0    0    0    0    0    0    0    0    0    0    0    0    0    0\n",
            "    0    0    0    0    0    0    0    0    0    0    0    0    0    0\n",
            "    0    0    0    0]\n"
          ],
          "name": "stdout"
        }
      ]
    },
    {
      "cell_type": "markdown",
      "metadata": {
        "id": "LLC02j2g-llC"
      },
      "source": [
        "## <font color='blue'>Construindo o modelo</font>\n",
        "\n",
        "A **rede neural** é criada por camadas empilhadas —isso necessita duas decisões arquiteturais principais:\n",
        "\n",
        "* Quantas camadas serão usadas no modelo?\n",
        "* Quantas **hidden units**  são usadas em cada camada?\n",
        "\n",
        "Neste exemplo, os dados de entrada são um **array** de palavras-índices. As **labels**  para predizer são ou $0$ ou $1$. Vamos construir um modelo para este problema:"
      ]
    },
    {
      "cell_type": "code",
      "metadata": {
        "execution": {
          "iopub.execute_input": "2020-09-22T18:01:17.081770Z",
          "iopub.status.busy": "2020-09-22T18:01:17.081140Z",
          "iopub.status.idle": "2020-09-22T18:01:18.638234Z",
          "shell.execute_reply": "2020-09-22T18:01:18.638691Z"
        },
        "id": "xpKOoWgu-llD",
        "colab": {
          "base_uri": "https://localhost:8080/"
        },
        "outputId": "3576cf0e-de48-4179-a8dc-1d6b481abe76"
      },
      "source": [
        "# O formato de entrada é a contagem vocabulário usados pelas avaliações dos filmes (10000 palavras)\n",
        "vocab_size = 10000\n",
        "\n",
        "model = keras.Sequential()\n",
        "\n",
        "model.add(keras.layers.Embedding(vocab_size, 16))\n",
        "model.add(keras.layers.GlobalAveragePooling1D())\n",
        "model.add(keras.layers.Dense(16, activation='relu'))\n",
        "model.add(keras.layers.Dense(1, activation='sigmoid'))\n",
        "\n",
        "model.summary()"
      ],
      "execution_count": null,
      "outputs": [
        {
          "output_type": "stream",
          "text": [
            "Model: \"sequential\"\n",
            "_________________________________________________________________\n",
            "Layer (type)                 Output Shape              Param #   \n",
            "=================================================================\n",
            "embedding (Embedding)        (None, None, 16)          160000    \n",
            "_________________________________________________________________\n",
            "global_average_pooling1d (Gl (None, 16)                0         \n",
            "_________________________________________________________________\n",
            "dense (Dense)                (None, 16)                272       \n",
            "_________________________________________________________________\n",
            "dense_1 (Dense)              (None, 1)                 17        \n",
            "=================================================================\n",
            "Total params: 160,289\n",
            "Trainable params: 160,289\n",
            "Non-trainable params: 0\n",
            "_________________________________________________________________\n"
          ],
          "name": "stdout"
        }
      ]
    },
    {
      "cell_type": "markdown",
      "metadata": {
        "id": "6PbKQ6mucuKL"
      },
      "source": [
        "As camadas são empilhadas sequencialmente para construir o classificador:\n",
        "\n",
        "1. A primeira camada é uma camada `Embedding` (*`Embedding` layer*). Essa camada pega o vocabulário em inteiros e olha o vetor *embedding*  em cada palavra-index. Esses vetores são aprendidos pelo modelo, ao longo do treinamento. Os vetores adicionam a dimensão ao *array* de saída. As dimensões resultantes são: `(batch, sequence, embedding)`.\n",
        "2. Depois, uma camada `GlobalAveragePooling1D` retorna um vetor de saída com comprimento fixo para cada exemplo fazendo a média da sequência da dimensão. Isso permite o modelo de lidar com entradas de tamanhos diferentes da maneira mais simples possível.\n",
        "3. Esse vetor de saída com tamanho fixo passa por uma camada *fully-connected* (`Dense`) layer com 16 *hidden units*.\n",
        "4. A última camada é uma *densely connected* com um único nó (neurônio) de saída. Usando uma função de ativação ``sigmoid``, esse valor  é um float que  varia entre $0$  e $1$, representando a probabilidade, ou nível de confiança."
      ]
    },
    {
      "cell_type": "markdown",
      "metadata": {
        "id": "0XMwnDOp-llH"
      },
      "source": [
        "### <font color='orange'>Hidden units</font>\n",
        "\n",
        "O modelo abaixo tem duas camadas intermediárias ou _\\\"hidden\\\"_ (hidden layers), entre a entrada e saída. O número de saídas (unidades— *units*—, nós ou neurônios) é a dimensão do espaço representacional para a camada. Em outras palavras, a quantidade de liberdade que a rede é permitida enquanto aprende uma representação interna.\n",
        "\n",
        "Se o modelo tem mais **hidden units** (<font color='orange'>um espaço representacional de maior dimensão</font>), e/ou mais camadas, então a rede pode aprender representações mais complexas. Entretanto, isso faz com que a rede seja computacionalmente mais custosa e pode levar ao aprendizado de padrões não desejados— padrões que melhoram a performance com os dados de treinamento, mas não com os de teste. Isso se chama **overfitting**, e exploraremos mais tarde."
      ]
    },
    {
      "cell_type": "markdown",
      "metadata": {
        "id": "L4EqVWg4-llM"
      },
      "source": [
        "### <font color='orange'>Função Loss e otimizadores (optimizer)</font>\n",
        "\n",
        "O modelo precisa de uma função **loss** e um otimizador (**optimizer**) para treinamento. Já que é um problema de **classificação binária** e o modelo tem como saída uma probabilidade (uma única camada com ativação sigmoide), usaremos a função loss ``binary_crossentropy``.\n",
        "\n",
        "Essa não é a única escolha de função loss, você poderia escolher, no lugar, a ``mean_squared_error``. Mas, geralmente, ``binary_crossentropy`` é melhor para tratar probabilidades — ela mede a **\\\"distância\\\"** entre as distribuições de probabilidade, ou, no nosso caso, sobre a distribuição real e as previsões.\n",
        "\n",
        "Mais tarde, quando explorarmos problemas de regressão (como, predizer preço de uma casa), veremos como usar outra função loss chamada **mean squared error**.\n",
        "\n",
        "Agora, configure o modelo para usar o **optimizer** a função loss:"
      ]
    },
    {
      "cell_type": "code",
      "metadata": {
        "execution": {
          "iopub.execute_input": "2020-09-22T18:01:18.649865Z",
          "iopub.status.busy": "2020-09-22T18:01:18.649123Z",
          "iopub.status.idle": "2020-09-22T18:01:18.655519Z",
          "shell.execute_reply": "2020-09-22T18:01:18.655092Z"
        },
        "id": "Mr0GP-cQ-llN"
      },
      "source": [
        "model.compile(optimizer='adam',\n",
        "              loss='binary_crossentropy',\n",
        "              metrics=['accuracy'])"
      ],
      "execution_count": null,
      "outputs": []
    },
    {
      "cell_type": "markdown",
      "metadata": {
        "id": "hCWYwkug-llQ"
      },
      "source": [
        "## <font color='blue'>Crie um conjunto de validação</font>\n",
        "\n",
        "Quando treinando. queremos checar a acurácia do modelo com os dados que ele nunca viu. Crie uma conjunto de **validação** tirando $10\\,000$ exemplos do conjunto de treinamento original. (Por que não usar o de teste agora? Nosso objetivo é desenvolver e melhorar (**tunar**) nosso modelo usando somente os dados de treinamento, depois usar o de teste uma única vez para avaliar a acurácia)."
      ]
    },
    {
      "cell_type": "code",
      "metadata": {
        "execution": {
          "iopub.execute_input": "2020-09-22T18:01:18.659197Z",
          "iopub.status.busy": "2020-09-22T18:01:18.658637Z",
          "iopub.status.idle": "2020-09-22T18:01:18.660553Z",
          "shell.execute_reply": "2020-09-22T18:01:18.660947Z"
        },
        "id": "-NpcXY9--llS"
      },
      "source": [
        "# Fazendo a separação para Dados de validação\n",
        "x_val = train_data[:10000]\n",
        "partial_x_train = train_data[10000:]\n",
        "\n",
        "y_val = train_labels[:10000]\n",
        "partial_y_train = train_labels[10000:]"
      ],
      "execution_count": null,
      "outputs": []
    },
    {
      "cell_type": "markdown",
      "metadata": {
        "id": "35jv_fzP-llU"
      },
      "source": [
        "## <font color='blue'>Treine o modelo</font>\n",
        "\n",
        "Treine o modelo em $40$ **epochs** (eu vou tentar com outros valores também) com **mini-batches** de $5124$ exemplos. Essas $40$ iterações sobre todos os exemplos nos tensores ``x_train`` e ``y_train``. Enquanto treina, monitore os valores do **loss** e da **acurácia** do modelo nos $10\\,000$ exemplos do conjunto de validação:"
      ]
    },
    {
      "cell_type": "code",
      "metadata": {
        "execution": {
          "iopub.execute_input": "2020-09-22T18:01:18.665161Z",
          "iopub.status.busy": "2020-09-22T18:01:18.664619Z",
          "iopub.status.idle": "2020-09-22T18:01:30.481983Z",
          "shell.execute_reply": "2020-09-22T18:01:30.482530Z"
        },
        "id": "tXSGrjWZ-llW",
        "colab": {
          "base_uri": "https://localhost:8080/"
        },
        "outputId": "00b58f19-9a95-4e53-80fd-75af46182626"
      },
      "source": [
        "history = model.fit(partial_x_train,\n",
        "                    partial_y_train,\n",
        "                    epochs=120,\n",
        "                    batch_size=512,\n",
        "                    validation_data=(x_val, y_val),\n",
        "                    verbose=1)"
      ],
      "execution_count": null,
      "outputs": [
        {
          "output_type": "stream",
          "text": [
            "Epoch 1/120\n",
            "30/30 [==============================] - 1s 29ms/step - loss: 0.6926 - accuracy: 0.5445 - val_loss: 0.6899 - val_accuracy: 0.6238\n",
            "Epoch 2/120\n",
            "30/30 [==============================] - 1s 17ms/step - loss: 0.6884 - accuracy: 0.6921 - val_loss: 0.6827 - val_accuracy: 0.6551\n",
            "Epoch 3/120\n",
            "30/30 [==============================] - 1s 18ms/step - loss: 0.6784 - accuracy: 0.7236 - val_loss: 0.6675 - val_accuracy: 0.7426\n",
            "Epoch 4/120\n",
            "30/30 [==============================] - 1s 18ms/step - loss: 0.6592 - accuracy: 0.7668 - val_loss: 0.6428 - val_accuracy: 0.7576\n",
            "Epoch 5/120\n",
            "30/30 [==============================] - 1s 22ms/step - loss: 0.6291 - accuracy: 0.7915 - val_loss: 0.6086 - val_accuracy: 0.7808\n",
            "Epoch 6/120\n",
            "30/30 [==============================] - 1s 18ms/step - loss: 0.5914 - accuracy: 0.8038 - val_loss: 0.5689 - val_accuracy: 0.8064\n",
            "Epoch 7/120\n",
            "30/30 [==============================] - 1s 18ms/step - loss: 0.5451 - accuracy: 0.8273 - val_loss: 0.5254 - val_accuracy: 0.8179\n",
            "Epoch 8/120\n",
            "30/30 [==============================] - 1s 17ms/step - loss: 0.4965 - accuracy: 0.8446 - val_loss: 0.4843 - val_accuracy: 0.8321\n",
            "Epoch 9/120\n",
            "30/30 [==============================] - 1s 17ms/step - loss: 0.4552 - accuracy: 0.8538 - val_loss: 0.4480 - val_accuracy: 0.8435\n",
            "Epoch 10/120\n",
            "30/30 [==============================] - 1s 17ms/step - loss: 0.4133 - accuracy: 0.8679 - val_loss: 0.4166 - val_accuracy: 0.8522\n",
            "Epoch 11/120\n",
            "30/30 [==============================] - 1s 18ms/step - loss: 0.3745 - accuracy: 0.8823 - val_loss: 0.3914 - val_accuracy: 0.8590\n",
            "Epoch 12/120\n",
            "30/30 [==============================] - 1s 18ms/step - loss: 0.3481 - accuracy: 0.8869 - val_loss: 0.3702 - val_accuracy: 0.8643\n",
            "Epoch 13/120\n",
            "30/30 [==============================] - 1s 17ms/step - loss: 0.3291 - accuracy: 0.8887 - val_loss: 0.3539 - val_accuracy: 0.8673\n",
            "Epoch 14/120\n",
            "30/30 [==============================] - 1s 17ms/step - loss: 0.3013 - accuracy: 0.9000 - val_loss: 0.3398 - val_accuracy: 0.8702\n",
            "Epoch 15/120\n",
            "30/30 [==============================] - 1s 17ms/step - loss: 0.2815 - accuracy: 0.9039 - val_loss: 0.3293 - val_accuracy: 0.8723\n",
            "Epoch 16/120\n",
            "30/30 [==============================] - 1s 18ms/step - loss: 0.2697 - accuracy: 0.9072 - val_loss: 0.3194 - val_accuracy: 0.8758\n",
            "Epoch 17/120\n",
            "30/30 [==============================] - 1s 18ms/step - loss: 0.2548 - accuracy: 0.9131 - val_loss: 0.3116 - val_accuracy: 0.8788\n",
            "Epoch 18/120\n",
            "30/30 [==============================] - 0s 17ms/step - loss: 0.2364 - accuracy: 0.9206 - val_loss: 0.3058 - val_accuracy: 0.8794\n",
            "Epoch 19/120\n",
            "30/30 [==============================] - 1s 17ms/step - loss: 0.2282 - accuracy: 0.9213 - val_loss: 0.3007 - val_accuracy: 0.8797\n",
            "Epoch 20/120\n",
            "30/30 [==============================] - 1s 18ms/step - loss: 0.2118 - accuracy: 0.9271 - val_loss: 0.2971 - val_accuracy: 0.8806\n",
            "Epoch 21/120\n",
            "30/30 [==============================] - 1s 17ms/step - loss: 0.2044 - accuracy: 0.9297 - val_loss: 0.2929 - val_accuracy: 0.8825\n",
            "Epoch 22/120\n",
            "30/30 [==============================] - 1s 17ms/step - loss: 0.1978 - accuracy: 0.9323 - val_loss: 0.2912 - val_accuracy: 0.8837\n",
            "Epoch 23/120\n",
            "30/30 [==============================] - 0s 17ms/step - loss: 0.1919 - accuracy: 0.9339 - val_loss: 0.2883 - val_accuracy: 0.8846\n",
            "Epoch 24/120\n",
            "30/30 [==============================] - 1s 18ms/step - loss: 0.1787 - accuracy: 0.9407 - val_loss: 0.2863 - val_accuracy: 0.8854\n",
            "Epoch 25/120\n",
            "30/30 [==============================] - 1s 18ms/step - loss: 0.1683 - accuracy: 0.9464 - val_loss: 0.2854 - val_accuracy: 0.8843\n",
            "Epoch 26/120\n",
            "30/30 [==============================] - 1s 17ms/step - loss: 0.1672 - accuracy: 0.9462 - val_loss: 0.2845 - val_accuracy: 0.8851\n",
            "Epoch 27/120\n",
            "30/30 [==============================] - 1s 17ms/step - loss: 0.1586 - accuracy: 0.9506 - val_loss: 0.2845 - val_accuracy: 0.8849\n",
            "Epoch 28/120\n",
            "30/30 [==============================] - 1s 17ms/step - loss: 0.1538 - accuracy: 0.9552 - val_loss: 0.2853 - val_accuracy: 0.8844\n",
            "Epoch 29/120\n",
            "30/30 [==============================] - 1s 17ms/step - loss: 0.1528 - accuracy: 0.9528 - val_loss: 0.2851 - val_accuracy: 0.8861\n",
            "Epoch 30/120\n",
            "30/30 [==============================] - 1s 18ms/step - loss: 0.1419 - accuracy: 0.9577 - val_loss: 0.2860 - val_accuracy: 0.8857\n",
            "Epoch 31/120\n",
            "30/30 [==============================] - 1s 17ms/step - loss: 0.1377 - accuracy: 0.9589 - val_loss: 0.2876 - val_accuracy: 0.8858\n",
            "Epoch 32/120\n",
            "30/30 [==============================] - 1s 18ms/step - loss: 0.1278 - accuracy: 0.9625 - val_loss: 0.2887 - val_accuracy: 0.8854\n",
            "Epoch 33/120\n",
            "30/30 [==============================] - 1s 17ms/step - loss: 0.1260 - accuracy: 0.9624 - val_loss: 0.2904 - val_accuracy: 0.8850\n",
            "Epoch 34/120\n",
            "30/30 [==============================] - 1s 18ms/step - loss: 0.1224 - accuracy: 0.9663 - val_loss: 0.2930 - val_accuracy: 0.8851\n",
            "Epoch 35/120\n",
            "30/30 [==============================] - 1s 18ms/step - loss: 0.1158 - accuracy: 0.9663 - val_loss: 0.2944 - val_accuracy: 0.8855\n",
            "Epoch 36/120\n",
            "30/30 [==============================] - 1s 17ms/step - loss: 0.1133 - accuracy: 0.9681 - val_loss: 0.2960 - val_accuracy: 0.8851\n",
            "Epoch 37/120\n",
            "30/30 [==============================] - 0s 16ms/step - loss: 0.1126 - accuracy: 0.9687 - val_loss: 0.2984 - val_accuracy: 0.8855\n",
            "Epoch 38/120\n",
            "30/30 [==============================] - 1s 17ms/step - loss: 0.1052 - accuracy: 0.9724 - val_loss: 0.3026 - val_accuracy: 0.8835\n",
            "Epoch 39/120\n",
            "30/30 [==============================] - 1s 18ms/step - loss: 0.1000 - accuracy: 0.9750 - val_loss: 0.3039 - val_accuracy: 0.8842\n",
            "Epoch 40/120\n",
            "30/30 [==============================] - 1s 17ms/step - loss: 0.0956 - accuracy: 0.9761 - val_loss: 0.3065 - val_accuracy: 0.8842\n",
            "Epoch 41/120\n",
            "30/30 [==============================] - 1s 17ms/step - loss: 0.0905 - accuracy: 0.9784 - val_loss: 0.3102 - val_accuracy: 0.8830\n",
            "Epoch 42/120\n",
            "30/30 [==============================] - 1s 18ms/step - loss: 0.0882 - accuracy: 0.9785 - val_loss: 0.3159 - val_accuracy: 0.8803\n",
            "Epoch 43/120\n",
            "30/30 [==============================] - 1s 17ms/step - loss: 0.0897 - accuracy: 0.9780 - val_loss: 0.3162 - val_accuracy: 0.8821\n",
            "Epoch 44/120\n",
            "30/30 [==============================] - 1s 17ms/step - loss: 0.0841 - accuracy: 0.9805 - val_loss: 0.3192 - val_accuracy: 0.8823\n",
            "Epoch 45/120\n",
            "30/30 [==============================] - 1s 22ms/step - loss: 0.0796 - accuracy: 0.9833 - val_loss: 0.3230 - val_accuracy: 0.8818\n",
            "Epoch 46/120\n",
            "30/30 [==============================] - 1s 17ms/step - loss: 0.0794 - accuracy: 0.9837 - val_loss: 0.3289 - val_accuracy: 0.8787\n",
            "Epoch 47/120\n",
            "30/30 [==============================] - 1s 18ms/step - loss: 0.0762 - accuracy: 0.9824 - val_loss: 0.3302 - val_accuracy: 0.8802\n",
            "Epoch 48/120\n",
            "30/30 [==============================] - 1s 17ms/step - loss: 0.0709 - accuracy: 0.9861 - val_loss: 0.3353 - val_accuracy: 0.8786\n",
            "Epoch 49/120\n",
            "30/30 [==============================] - 1s 17ms/step - loss: 0.0702 - accuracy: 0.9848 - val_loss: 0.3383 - val_accuracy: 0.8793\n",
            "Epoch 50/120\n",
            "30/30 [==============================] - 1s 18ms/step - loss: 0.0678 - accuracy: 0.9864 - val_loss: 0.3415 - val_accuracy: 0.8785\n",
            "Epoch 51/120\n",
            "30/30 [==============================] - 1s 18ms/step - loss: 0.0630 - accuracy: 0.9882 - val_loss: 0.3492 - val_accuracy: 0.8767\n",
            "Epoch 52/120\n",
            "30/30 [==============================] - 1s 17ms/step - loss: 0.0650 - accuracy: 0.9879 - val_loss: 0.3498 - val_accuracy: 0.8782\n",
            "Epoch 53/120\n",
            "30/30 [==============================] - 1s 18ms/step - loss: 0.0600 - accuracy: 0.9891 - val_loss: 0.3563 - val_accuracy: 0.8767\n",
            "Epoch 54/120\n",
            "30/30 [==============================] - 1s 17ms/step - loss: 0.0580 - accuracy: 0.9894 - val_loss: 0.3590 - val_accuracy: 0.8766\n",
            "Epoch 55/120\n",
            "30/30 [==============================] - 1s 17ms/step - loss: 0.0550 - accuracy: 0.9901 - val_loss: 0.3640 - val_accuracy: 0.8762\n",
            "Epoch 56/120\n",
            "30/30 [==============================] - 0s 17ms/step - loss: 0.0537 - accuracy: 0.9907 - val_loss: 0.3674 - val_accuracy: 0.8771\n",
            "Epoch 57/120\n",
            "30/30 [==============================] - 1s 18ms/step - loss: 0.0541 - accuracy: 0.9904 - val_loss: 0.3724 - val_accuracy: 0.8766\n",
            "Epoch 58/120\n",
            "30/30 [==============================] - 1s 17ms/step - loss: 0.0524 - accuracy: 0.9915 - val_loss: 0.3765 - val_accuracy: 0.8772\n",
            "Epoch 59/120\n",
            "30/30 [==============================] - 1s 18ms/step - loss: 0.0481 - accuracy: 0.9924 - val_loss: 0.3817 - val_accuracy: 0.8764\n",
            "Epoch 60/120\n",
            "30/30 [==============================] - 1s 17ms/step - loss: 0.0464 - accuracy: 0.9923 - val_loss: 0.3879 - val_accuracy: 0.8750\n",
            "Epoch 61/120\n",
            "30/30 [==============================] - 1s 17ms/step - loss: 0.0452 - accuracy: 0.9937 - val_loss: 0.3915 - val_accuracy: 0.8754\n",
            "Epoch 62/120\n",
            "30/30 [==============================] - 1s 17ms/step - loss: 0.0431 - accuracy: 0.9931 - val_loss: 0.3954 - val_accuracy: 0.8735\n",
            "Epoch 63/120\n",
            "30/30 [==============================] - 1s 18ms/step - loss: 0.0408 - accuracy: 0.9944 - val_loss: 0.4045 - val_accuracy: 0.8736\n",
            "Epoch 64/120\n",
            "30/30 [==============================] - 1s 18ms/step - loss: 0.0423 - accuracy: 0.9939 - val_loss: 0.4053 - val_accuracy: 0.8755\n",
            "Epoch 65/120\n",
            "30/30 [==============================] - 1s 17ms/step - loss: 0.0397 - accuracy: 0.9943 - val_loss: 0.4134 - val_accuracy: 0.8729\n",
            "Epoch 66/120\n",
            "30/30 [==============================] - 1s 18ms/step - loss: 0.0417 - accuracy: 0.9941 - val_loss: 0.4147 - val_accuracy: 0.8744\n",
            "Epoch 67/120\n",
            "30/30 [==============================] - 1s 18ms/step - loss: 0.0380 - accuracy: 0.9940 - val_loss: 0.4199 - val_accuracy: 0.8734\n",
            "Epoch 68/120\n",
            "30/30 [==============================] - 1s 18ms/step - loss: 0.0347 - accuracy: 0.9950 - val_loss: 0.4295 - val_accuracy: 0.8721\n",
            "Epoch 69/120\n",
            "30/30 [==============================] - 1s 18ms/step - loss: 0.0309 - accuracy: 0.9959 - val_loss: 0.4307 - val_accuracy: 0.8732\n",
            "Epoch 70/120\n",
            "30/30 [==============================] - 1s 18ms/step - loss: 0.0311 - accuracy: 0.9960 - val_loss: 0.4378 - val_accuracy: 0.8714\n",
            "Epoch 71/120\n",
            "30/30 [==============================] - 1s 17ms/step - loss: 0.0335 - accuracy: 0.9956 - val_loss: 0.4402 - val_accuracy: 0.8720\n",
            "Epoch 72/120\n",
            "30/30 [==============================] - 1s 17ms/step - loss: 0.0300 - accuracy: 0.9961 - val_loss: 0.4440 - val_accuracy: 0.8729\n",
            "Epoch 73/120\n",
            "30/30 [==============================] - 1s 17ms/step - loss: 0.0297 - accuracy: 0.9960 - val_loss: 0.4501 - val_accuracy: 0.8705\n",
            "Epoch 74/120\n",
            "30/30 [==============================] - 1s 18ms/step - loss: 0.0298 - accuracy: 0.9965 - val_loss: 0.4543 - val_accuracy: 0.8718\n",
            "Epoch 75/120\n",
            "30/30 [==============================] - 1s 18ms/step - loss: 0.0275 - accuracy: 0.9966 - val_loss: 0.4652 - val_accuracy: 0.8696\n",
            "Epoch 76/120\n",
            "30/30 [==============================] - 1s 17ms/step - loss: 0.0284 - accuracy: 0.9964 - val_loss: 0.4672 - val_accuracy: 0.8695\n",
            "Epoch 77/120\n",
            "30/30 [==============================] - 1s 17ms/step - loss: 0.0246 - accuracy: 0.9975 - val_loss: 0.4719 - val_accuracy: 0.8698\n",
            "Epoch 78/120\n",
            "30/30 [==============================] - 1s 18ms/step - loss: 0.0263 - accuracy: 0.9974 - val_loss: 0.4766 - val_accuracy: 0.8687\n",
            "Epoch 79/120\n",
            "30/30 [==============================] - 1s 17ms/step - loss: 0.0217 - accuracy: 0.9985 - val_loss: 0.4816 - val_accuracy: 0.8699\n",
            "Epoch 80/120\n",
            "30/30 [==============================] - 1s 17ms/step - loss: 0.0213 - accuracy: 0.9980 - val_loss: 0.4851 - val_accuracy: 0.8689\n",
            "Epoch 81/120\n",
            "30/30 [==============================] - 0s 17ms/step - loss: 0.0215 - accuracy: 0.9976 - val_loss: 0.4925 - val_accuracy: 0.8675\n",
            "Epoch 82/120\n",
            "30/30 [==============================] - 1s 18ms/step - loss: 0.0216 - accuracy: 0.9982 - val_loss: 0.5000 - val_accuracy: 0.8678\n",
            "Epoch 83/120\n",
            "30/30 [==============================] - 1s 17ms/step - loss: 0.0205 - accuracy: 0.9979 - val_loss: 0.5041 - val_accuracy: 0.8678\n",
            "Epoch 84/120\n",
            "30/30 [==============================] - 1s 18ms/step - loss: 0.0183 - accuracy: 0.9988 - val_loss: 0.5085 - val_accuracy: 0.8682\n",
            "Epoch 85/120\n",
            "30/30 [==============================] - 1s 17ms/step - loss: 0.0185 - accuracy: 0.9987 - val_loss: 0.5150 - val_accuracy: 0.8662\n",
            "Epoch 86/120\n",
            "30/30 [==============================] - 1s 17ms/step - loss: 0.0163 - accuracy: 0.9991 - val_loss: 0.5211 - val_accuracy: 0.8662\n",
            "Epoch 87/120\n",
            "30/30 [==============================] - 1s 18ms/step - loss: 0.0161 - accuracy: 0.9990 - val_loss: 0.5230 - val_accuracy: 0.8658\n",
            "Epoch 88/120\n",
            "30/30 [==============================] - 1s 17ms/step - loss: 0.0176 - accuracy: 0.9986 - val_loss: 0.5281 - val_accuracy: 0.8660\n",
            "Epoch 89/120\n",
            "30/30 [==============================] - 1s 19ms/step - loss: 0.0157 - accuracy: 0.9984 - val_loss: 0.5363 - val_accuracy: 0.8656\n",
            "Epoch 90/120\n",
            "30/30 [==============================] - 1s 18ms/step - loss: 0.0152 - accuracy: 0.9986 - val_loss: 0.5367 - val_accuracy: 0.8655\n",
            "Epoch 91/120\n",
            "30/30 [==============================] - 1s 17ms/step - loss: 0.0130 - accuracy: 0.9991 - val_loss: 0.5499 - val_accuracy: 0.8649\n",
            "Epoch 92/120\n",
            "30/30 [==============================] - 1s 17ms/step - loss: 0.0143 - accuracy: 0.9987 - val_loss: 0.5518 - val_accuracy: 0.8661\n",
            "Epoch 93/120\n",
            "30/30 [==============================] - 1s 17ms/step - loss: 0.0130 - accuracy: 0.9988 - val_loss: 0.5530 - val_accuracy: 0.8649\n",
            "Epoch 94/120\n",
            "30/30 [==============================] - 1s 17ms/step - loss: 0.0122 - accuracy: 0.9995 - val_loss: 0.5580 - val_accuracy: 0.8641\n",
            "Epoch 95/120\n",
            "30/30 [==============================] - 1s 22ms/step - loss: 0.0128 - accuracy: 0.9990 - val_loss: 0.5673 - val_accuracy: 0.8642\n",
            "Epoch 96/120\n",
            "30/30 [==============================] - 1s 18ms/step - loss: 0.0137 - accuracy: 0.9989 - val_loss: 0.5720 - val_accuracy: 0.8640\n",
            "Epoch 97/120\n",
            "30/30 [==============================] - 1s 17ms/step - loss: 0.0117 - accuracy: 0.9991 - val_loss: 0.5733 - val_accuracy: 0.8636\n",
            "Epoch 98/120\n",
            "30/30 [==============================] - 1s 18ms/step - loss: 0.0126 - accuracy: 0.9988 - val_loss: 0.5791 - val_accuracy: 0.8648\n",
            "Epoch 99/120\n",
            "30/30 [==============================] - 1s 18ms/step - loss: 0.0103 - accuracy: 0.9993 - val_loss: 0.5863 - val_accuracy: 0.8635\n",
            "Epoch 100/120\n",
            "30/30 [==============================] - 1s 18ms/step - loss: 0.0104 - accuracy: 0.9993 - val_loss: 0.5936 - val_accuracy: 0.8636\n",
            "Epoch 101/120\n",
            "30/30 [==============================] - 1s 18ms/step - loss: 0.0096 - accuracy: 0.9995 - val_loss: 0.5991 - val_accuracy: 0.8635\n",
            "Epoch 102/120\n",
            "30/30 [==============================] - 1s 18ms/step - loss: 0.0088 - accuracy: 0.9996 - val_loss: 0.6011 - val_accuracy: 0.8633\n",
            "Epoch 103/120\n",
            "30/30 [==============================] - 1s 18ms/step - loss: 0.0091 - accuracy: 0.9995 - val_loss: 0.6030 - val_accuracy: 0.8631\n",
            "Epoch 104/120\n",
            "30/30 [==============================] - 1s 17ms/step - loss: 0.0086 - accuracy: 0.9996 - val_loss: 0.6109 - val_accuracy: 0.8630\n",
            "Epoch 105/120\n",
            "30/30 [==============================] - 1s 18ms/step - loss: 0.0076 - accuracy: 0.9998 - val_loss: 0.6171 - val_accuracy: 0.8629\n",
            "Epoch 106/120\n",
            "30/30 [==============================] - 1s 18ms/step - loss: 0.0076 - accuracy: 0.9997 - val_loss: 0.6202 - val_accuracy: 0.8625\n",
            "Epoch 107/120\n",
            "30/30 [==============================] - 1s 18ms/step - loss: 0.0077 - accuracy: 0.9996 - val_loss: 0.6252 - val_accuracy: 0.8628\n",
            "Epoch 108/120\n",
            "30/30 [==============================] - 1s 18ms/step - loss: 0.0067 - accuracy: 0.9996 - val_loss: 0.6306 - val_accuracy: 0.8627\n",
            "Epoch 109/120\n",
            "30/30 [==============================] - 1s 18ms/step - loss: 0.0071 - accuracy: 0.9996 - val_loss: 0.6322 - val_accuracy: 0.8628\n",
            "Epoch 110/120\n",
            "30/30 [==============================] - 1s 18ms/step - loss: 0.0063 - accuracy: 0.9998 - val_loss: 0.6419 - val_accuracy: 0.8617\n",
            "Epoch 111/120\n",
            "30/30 [==============================] - 1s 17ms/step - loss: 0.0061 - accuracy: 0.9999 - val_loss: 0.6476 - val_accuracy: 0.8619\n",
            "Epoch 112/120\n",
            "30/30 [==============================] - 1s 19ms/step - loss: 0.0057 - accuracy: 0.9999 - val_loss: 0.6501 - val_accuracy: 0.8610\n",
            "Epoch 113/120\n",
            "30/30 [==============================] - 1s 18ms/step - loss: 0.0055 - accuracy: 0.9999 - val_loss: 0.6613 - val_accuracy: 0.8635\n",
            "Epoch 114/120\n",
            "30/30 [==============================] - 1s 18ms/step - loss: 0.0056 - accuracy: 0.9999 - val_loss: 0.6581 - val_accuracy: 0.8616\n",
            "Epoch 115/120\n",
            "30/30 [==============================] - 1s 18ms/step - loss: 0.0051 - accuracy: 0.9999 - val_loss: 0.6664 - val_accuracy: 0.8611\n",
            "Epoch 116/120\n",
            "30/30 [==============================] - 1s 18ms/step - loss: 0.0050 - accuracy: 0.9998 - val_loss: 0.6736 - val_accuracy: 0.8623\n",
            "Epoch 117/120\n",
            "30/30 [==============================] - 1s 18ms/step - loss: 0.0049 - accuracy: 0.9998 - val_loss: 0.6729 - val_accuracy: 0.8612\n",
            "Epoch 118/120\n",
            "30/30 [==============================] - 1s 18ms/step - loss: 0.0047 - accuracy: 0.9998 - val_loss: 0.6764 - val_accuracy: 0.8614\n",
            "Epoch 119/120\n",
            "30/30 [==============================] - 1s 18ms/step - loss: 0.0047 - accuracy: 0.9997 - val_loss: 0.6821 - val_accuracy: 0.8613\n",
            "Epoch 120/120\n",
            "30/30 [==============================] - 1s 17ms/step - loss: 0.0047 - accuracy: 0.9999 - val_loss: 0.6886 - val_accuracy: 0.8613\n"
          ],
          "name": "stdout"
        }
      ]
    },
    {
      "cell_type": "markdown",
      "metadata": {
        "id": "9EEGuDVuzb5r"
      },
      "source": [
        "## <font color='blue'>Avalie o modelo</font>\n",
        "\n",
        "E vamos ver como o modelo se saiu. Dois valores serão retornados. **Loss** (<font color='orange'>um número que representa o nosso erro, valores mais baixos são melhores</font>), e **acurácia**."
      ]
    },
    {
      "cell_type": "code",
      "metadata": {
        "execution": {
          "iopub.execute_input": "2020-09-22T18:01:30.487106Z",
          "iopub.status.busy": "2020-09-22T18:01:30.486533Z",
          "iopub.status.idle": "2020-09-22T18:01:31.859781Z",
          "shell.execute_reply": "2020-09-22T18:01:31.860189Z"
        },
        "id": "zOMKywn4zReN",
        "colab": {
          "base_uri": "https://localhost:8080/"
        },
        "outputId": "d06f777c-785d-40b0-db06-25f0ba1903b6"
      },
      "source": [
        "results = model.evaluate(test_data,  test_labels, verbose=2)\n",
        "\n",
        "print(results)"
      ],
      "execution_count": null,
      "outputs": [
        {
          "output_type": "stream",
          "text": [
            "782/782 - 1s - loss: 0.7330 - accuracy: 0.8480\n",
            "[0.7330024838447571, 0.848039984703064]\n"
          ],
          "name": "stdout"
        }
      ]
    },
    {
      "cell_type": "markdown",
      "metadata": {
        "id": "z1iEXVTR0Z2t"
      },
      "source": [
        "Esta é uma abordagem ingênua que conseguiu uma acurácia de ``87\\%``. Com abordagens mais avançadas, o modelo deve chegar em ``95\\%``."
      ]
    },
    {
      "cell_type": "markdown",
      "metadata": {
        "id": "5KggXVeL-llZ"
      },
      "source": [
        "## <font color='blue'>Crie um gráfico de acurácia e loss por tempo</font>\n",
        "\n",
        "`model.fit()` retorna um objeto `History` que contém um dicionário de tudo o que aconteceu durante o treinamento:"
      ]
    },
    {
      "cell_type": "code",
      "metadata": {
        "execution": {
          "iopub.execute_input": "2020-09-22T18:01:31.864700Z",
          "iopub.status.busy": "2020-09-22T18:01:31.863899Z",
          "iopub.status.idle": "2020-09-22T18:01:31.866303Z",
          "shell.execute_reply": "2020-09-22T18:01:31.866775Z"
        },
        "id": "VcvSXvhp-llb",
        "colab": {
          "base_uri": "https://localhost:8080/"
        },
        "outputId": "1862f1da-a4d8-4d2e-f4f2-261e5ad39ca5"
      },
      "source": [
        "history_dict = history.history\n",
        "history_dict.keys()"
      ],
      "execution_count": null,
      "outputs": [
        {
          "output_type": "execute_result",
          "data": {
            "text/plain": [
              "dict_keys(['loss', 'accuracy', 'val_loss', 'val_accuracy'])"
            ]
          },
          "metadata": {
            "tags": []
          },
          "execution_count": 18
        }
      ]
    },
    {
      "cell_type": "markdown",
      "metadata": {
        "id": "nRKsqL40-lle"
      },
      "source": [
        "Tem 4 entradas: uma para cada métrica monitorada durante a validação e treinamento. Podemos usá-las para plotar a comparação do **loss de treinamento e validação**, assim como a **acurácia de treinamento e validação**:"
      ]
    },
    {
      "cell_type": "code",
      "metadata": {
        "execution": {
          "iopub.execute_input": "2020-09-22T18:01:31.872125Z",
          "iopub.status.busy": "2020-09-22T18:01:31.871510Z",
          "iopub.status.idle": "2020-09-22T18:01:32.140086Z",
          "shell.execute_reply": "2020-09-22T18:01:32.140503Z"
        },
        "id": "nGoYf2Js-lle",
        "colab": {
          "base_uri": "https://localhost:8080/",
          "height": 295
        },
        "outputId": "2263e8bf-becd-4742-a5af-b4729061df62"
      },
      "source": [
        "import matplotlib.pyplot as plt\n",
        "\n",
        "acc = history_dict['accuracy']\n",
        "val_acc = history_dict['val_accuracy']\n",
        "loss = history_dict['loss']\n",
        "val_loss = history_dict['val_loss']\n",
        "\n",
        "epochs = range(1, len(acc) + 1)\n",
        "\n",
        "# \"bo\" is for \"blue dot\"\n",
        "plt.plot(epochs, loss, 'bo', label='Training loss')\n",
        "# b ou r is for \"solid blue line\"\n",
        "plt.plot(epochs, val_loss, 'r', label='Validation loss')\n",
        "plt.title('Training and validation loss')\n",
        "plt.xlabel('Epochs')\n",
        "plt.ylabel('Loss')\n",
        "plt.legend()\n",
        "\n",
        "plt.show()"
      ],
      "execution_count": null,
      "outputs": [
        {
          "output_type": "display_data",
          "data": {
            "image/png": "[encoded data removed]",
            "text/plain": [
              "<Figure size 432x288 with 1 Axes>"
            ]
          },
          "metadata": {
            "tags": [],
            "needs_background": "light"
          }
        }
      ]
    },
    {
      "cell_type": "code",
      "metadata": {
        "execution": {
          "iopub.execute_input": "2020-09-22T18:01:32.153117Z",
          "iopub.status.busy": "2020-09-22T18:01:32.149818Z",
          "iopub.status.idle": "2020-09-22T18:01:32.284884Z",
          "shell.execute_reply": "2020-09-22T18:01:32.285295Z"
        },
        "id": "6hXx-xOv-llh",
        "colab": {
          "base_uri": "https://localhost:8080/",
          "height": 295
        },
        "outputId": "556e37da-e7cc-42fe-8233-ed9913d1bd2d"
      },
      "source": [
        "plt.clf()   # clear figure\n",
        "\n",
        "plt.plot(epochs, acc, 'bo', label='Training acc')\n",
        "plt.plot(epochs, val_acc, 'r', label='Validation acc')\n",
        "plt.title('Training and validation accuracy')\n",
        "plt.xlabel('Epochs')\n",
        "plt.ylabel('Accuracy')\n",
        "plt.legend()\n",
        "\n",
        "plt.show()"
      ],
      "execution_count": null,
      "outputs": [
        {
          "output_type": "display_data",
          "data": {
            "image/png": "[encoded data removed]",
            "text/plain": [
              "<Figure size 432x288 with 1 Axes>"
            ]
          },
          "metadata": {
            "tags": [],
            "needs_background": "light"
          }
        }
      ]
    },
    {
      "cell_type": "markdown",
      "metadata": {
        "id": "oFEmZ5zq-llk"
      },
      "source": [
        "No gráfico, os pontos representam o loss e acurácia de treinamento, e as linhas são o loss e a acurácia de validação.\n",
        "\n",
        "Note: que o loss de treinamento *diminui*  a cada *epoch*  e a acurácia *aumenta*. Isso é esperado quando usado um gradient descent optimization—ele deve minimizar a quantidade desejada a cada iteração.\n",
        "\n",
        "Esse não é o caso do loss e da acurácia de validação— eles parecem ter um pico depois de 20 epochs. Isso é um exemplo de <font color='orange'>overfitting</font>: o modelo desempenha melhor nos dados de treinamento do que quando usado com dados nunca vistos. Depois desse ponto, o modelo otimiza além da conta e aprende uma representação *especifica* para os dados de treinamento e não *generaliza* para os dados de teste.\n",
        "\n",
        "Para esse caso particular, podemos prevenir o **overfitting** simplesmente parando o treinamento após mais ou menos 20 epochs. Depois, você verá como fazer isso automaticamente com um *callback*."
      ]
    },
    {
      "cell_type": "code",
      "metadata": {
        "id": "YDgWIjHaRIt4"
      },
      "source": [
        ""
      ],
      "execution_count": null,
      "outputs": []
    }
  ]
}